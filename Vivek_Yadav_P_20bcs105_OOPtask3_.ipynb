{
  "nbformat": 4,
  "nbformat_minor": 0,
  "metadata": {
    "colab": {
      "name": "Vivek Yadav.P_20bcs105_OOPtask3 .ipynb",
      "provenance": [],
      "authorship_tag": "ABX9TyN1OEFbysSg3u3OdD7/jduf",
      "include_colab_link": true
    },
    "kernelspec": {
      "name": "python3",
      "display_name": "Python 3"
    },
    "language_info": {
      "name": "python"
    }
  },
  "cells": [
    {
      "cell_type": "markdown",
      "metadata": {
        "id": "view-in-github",
        "colab_type": "text"
      },
      "source": [
        "<a href=\"https://colab.research.google.com/github/VivekYadav105/OOPS-CS207-LAB/blob/main/Vivek_Yadav_P_20bcs105_OOPtask3_.ipynb\" target=\"_parent\"><img src=\"https://colab.research.google.com/assets/colab-badge.svg\" alt=\"Open In Colab\"/></a>"
      ]
    },
    {
      "cell_type": "markdown",
      "metadata": {
        "id": "G7eUapy4oOr8"
      },
      "source": [
        "## Problem 1"
      ]
    },
    {
      "cell_type": "code",
      "metadata": {
        "colab": {
          "base_uri": "https://localhost:8080/"
        },
        "id": "8HP063f5Hlen",
        "outputId": "d3508c85-1219-4ed8-a85f-e2e43828109b"
      },
      "source": [
        "class student:\n",
        "  def __init__(self):\n",
        "    self.name=\"\"\n",
        "    self.rollno=0\n",
        "    self.age=0\n",
        "    self.gender=''\n",
        "    self.branch=''\n",
        "    self.sem=''\n",
        "  def read_student(self):\n",
        "    k=input(\"Enter student data(name,rollno,age,branch,gender,sem):\").split(',')\n",
        "    self.name=k[0];self.gender=k[4]\n",
        "    self.rollno=int(k[1]);self.age=int(k[2])\n",
        "    self.branch,self.sem=k[3],k[5]\n",
        "  def display_student(self):\n",
        "    print(f'Student name:{self.name}\\nRoll no:{self.rollno}\\nAge:{self.age}\\nBranch:{self.branch}\\ngender:{self.gender}\\nsem:{self.sem}')\n",
        "\n",
        "class studentresultinfo(student):\n",
        "  def __init__(self,total,grade,percentage):\n",
        "    self.total=total\n",
        "    self.percentage=percentage\n",
        "    self.grade=grade\n",
        "  \n",
        "  def dispres(self):\n",
        "    print(\"total:\",self.total)\n",
        "    print(\"percentage:\",self.percentage)\n",
        "    print(\"Grade:\",self.grade) \n",
        "  \n",
        "std1=studentresultinfo(438,93,'A')\n",
        "std1.read_student()\n",
        "std1.display_student()\n",
        "std1.dispres()"
      ],
      "execution_count": 9,
      "outputs": [
        {
          "output_type": "stream",
          "name": "stdout",
          "text": [
            "Enter student data(name,rollno,age,branch,gender,sem):Vivek,105,19,CSE,M,3rd\n",
            "Student name:Vivek\n",
            "Roll no:105\n",
            "Age:19\n",
            "Branch:CSE\n",
            "gender:M\n",
            "sem:3rd\n",
            "total: 438\n",
            "percentage: A\n",
            "Grade: 93\n"
          ]
        }
      ]
    },
    {
      "cell_type": "markdown",
      "metadata": {
        "id": "BVdOuexwojKf"
      },
      "source": [
        "## Problem 2"
      ]
    },
    {
      "cell_type": "code",
      "metadata": {
        "colab": {
          "base_uri": "https://localhost:8080/"
        },
        "id": "Typw6Sd5Nh1e",
        "outputId": "bda39df6-35af-4f69-f9c1-1c700f8f8d55"
      },
      "source": [
        "class consys:\n",
        "  def __init__(self,name):\n",
        "    self.name=name\n",
        "    self.threshold=0\n",
        "    self.creator=\"\"\n",
        "    self.description=\"\"\n",
        "    self.size=0\n",
        "  \n",
        "  def readinfo(self):\n",
        "    self.creator = input(\"\\nenter creator name:\")\n",
        "    self.description = input(\"enter file description:\")\n",
        "    self.size = int(input(\"Enter file size in mb:\"))\n",
        "  \n",
        "  def writeinfo(self):\n",
        "    print(\"\\nAuthorised by:\",self.name)\n",
        "    print(\"Created by:\",self.creator)\n",
        "    print(\"File size:\",self.size,\"mb\")\n",
        "    print(\"File description:\",self.description)\n",
        "  \n",
        "  def thresholdsize(self):\n",
        "    if type(self)==PDF:\n",
        "      self.threshold=20\n",
        "    elif type(self)==PIC:\n",
        "      self.threshold=100\n",
        "    else:\n",
        "      print(\"consys is not the type\")\n",
        "      exit(0)\n",
        "    \n",
        "    if self.size>self.threshold:\n",
        "      print(\"Threshold exceded\")\n",
        "    else:\n",
        "      print(\"Threshold not exceeded\")\n",
        "\n",
        "class PDF(consys):\n",
        "  def __init__(self,name):\n",
        "    consys.__init__(self,name)\n",
        "    self.docdisplay=0\n",
        "  def displaydoc(self):\n",
        "    print(\"Document displayed\")\n",
        "      \n",
        "class PIC(consys):\n",
        "  def __init__(self,name,picdim):\n",
        "    consys.__init__(self,name)\n",
        "    self.picdim=picdim\n",
        "    self.picdisplay=0\n",
        "  \n",
        "  def disppic(self):\n",
        "    print(\"picture displayed\")\n",
        "\n",
        "print(\"PDF Details:\")\n",
        "for i in range(2):\n",
        "  PDF1=PDF(\"System\")\n",
        "  PDF1.readinfo()\n",
        "  j=int(input(\"display document?  1:yes 2:no\"))\n",
        "  PDF1.writeinfo()\n",
        "  if j==1:\n",
        "    PDF1.displaydoc()\n",
        "  PDF1.thresholdsize()\n",
        "\n",
        "for i in range(2):\n",
        "  k=input('\\nenter pic dimensions')\n",
        "  PIC1=PIC(\"system generator\",k)\n",
        "  PIC1.readinfo()\n",
        "  PIC1.writeinfo()\n",
        "  j=int(input(\"display document?  1:yes 2:no\"))\n",
        "  if j==1:\n",
        "    PIC1.disppic()\n",
        "  PIC1.thresholdsize()"
      ],
      "execution_count": 28,
      "outputs": [
        {
          "output_type": "stream",
          "name": "stdout",
          "text": [
            "PDF Details:\n",
            "\n",
            "enter creator name:alpha\n",
            "enter file description:this is doc1\n",
            "Enter file size in mb:20\n",
            "display document?  1:yes 2:no1\n",
            "\n",
            "Authorised by: System\n",
            "Created by: alpha\n",
            "File size: 20 mb\n",
            "File description: this is doc1\n",
            "Document displayed\n",
            "Threshold not exceeded\n",
            "\n",
            "enter creator name:beta\n",
            "enter file description:this is doc2\n",
            "Enter file size in mb:19\n",
            "display document?  1:yes 2:no2\n",
            "\n",
            "Authorised by: System\n",
            "Created by: beta\n",
            "File size: 19 mb\n",
            "File description: this is doc2\n",
            "Threshold not exceeded\n",
            "\n",
            "enter pic dimensions1300X1100\n",
            "\n",
            "enter creator name:gamma\n",
            "enter file description:this is pic1\n",
            "Enter file size in mb:101\n",
            "\n",
            "Authorised by: system generator\n",
            "Created by: gamma\n",
            "File size: 101 mb\n",
            "File description: this is pic1\n",
            "display document?  1:yes 2:no1\n",
            "picture displayed\n",
            "Threshold exceded\n",
            "\n",
            "enter pic dimensions1200X1399\n",
            "\n",
            "enter creator name:delta\n",
            "enter file description:this is ic2\n",
            "Enter file size in mb:99\n",
            "\n",
            "Authorised by: system generator\n",
            "Created by: delta\n",
            "File size: 99 mb\n",
            "File description: this is ic2\n",
            "display document?  1:yes 2:no2\n",
            "Threshold not exceeded\n"
          ]
        }
      ]
    },
    {
      "cell_type": "markdown",
      "metadata": {
        "id": "IcbfpTVwojg9"
      },
      "source": [
        "## Problem 3"
      ]
    },
    {
      "cell_type": "code",
      "metadata": {
        "colab": {
          "base_uri": "https://localhost:8080/"
        },
        "id": "p05zbn-XoGGQ",
        "outputId": "7e413d4a-f370-4b7d-9f70-e97239f9e733"
      },
      "source": [
        "class vehical:\n",
        "  def __init__(self,milage,seatcapacity):\n",
        "    self.milage=milage\n",
        "    self.seatcapacity=seatcapacity\n",
        "  def fare(self):\n",
        "    if type(self)==bus:\n",
        "      self.fare=self.seatcapacity*110\n",
        "    else:\n",
        "      self.fare=self.seatcapacity*100\n",
        "  def disp(self):\n",
        "    print(\"FARE:\",self.fare)\n",
        "    print(\"Milage\",self.milage)\n",
        "    print(\"NO OF SEATS\",self.seatcapacity)\n",
        "\n",
        "class bus(vehical):\n",
        "  def __init__(self,milage,seatcapacity):\n",
        "    vehical.__init__(self,milage,seatcapacity)\n",
        "    print(\"\")\n",
        "  \n",
        "k=vehical(100,30)\n",
        "k2=bus(110,30)\n",
        "print('type:',type(k))\n",
        "k.fare()\n",
        "k.disp()\n",
        "print('type:',type(k2))\n",
        "k2.fare()\n",
        "k2.disp()\n",
        "\n",
        "    "
      ],
      "execution_count": 36,
      "outputs": [
        {
          "output_type": "stream",
          "name": "stdout",
          "text": [
            "\n",
            "type: <class '__main__.vehical'>\n",
            "FARE: 3000\n",
            "Milage 100\n",
            "NO OF SEATS 30\n",
            "type: <class '__main__.bus'>\n",
            "FARE: 3300\n",
            "Milage 110\n",
            "NO OF SEATS 30\n"
          ]
        }
      ]
    }
  ]
}