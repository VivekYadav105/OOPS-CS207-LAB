{
  "nbformat": 4,
  "nbformat_minor": 0,
  "metadata": {
    "colab": {
      "name": "Vivek Yadav.P_20bcs105_OOPTask2.ipynb",
      "provenance": [],
      "collapsed_sections": [],
      "include_colab_link": true
    },
    "kernelspec": {
      "name": "python3",
      "display_name": "Python 3"
    },
    "language_info": {
      "name": "python"
    }
  },
  "cells": [
    {
      "cell_type": "markdown",
      "metadata": {
        "id": "view-in-github",
        "colab_type": "text"
      },
      "source": [
        "<a href=\"https://colab.research.google.com/github/VivekYadav105/OOPS-CS207-LAB/blob/main/Vivek_Yadav_P_20bcs105_OOPTask2.ipynb\" target=\"_parent\"><img src=\"https://colab.research.google.com/assets/colab-badge.svg\" alt=\"Open In Colab\"/></a>"
      ]
    },
    {
      "cell_type": "markdown",
      "metadata": {
        "id": "THeLRO96lC1n"
      },
      "source": [
        "### problem 1"
      ]
    },
    {
      "cell_type": "code",
      "metadata": {
        "colab": {
          "base_uri": "https://localhost:8080/"
        },
        "id": "vJOtvD8ioW8C",
        "outputId": "061451ff-714a-4178-8e78-0164513f5aa4"
      },
      "source": [
        "class circle:\n",
        "  def __init__(self,radius):\n",
        "    self.radius=radius\n",
        "    self.cond = 1 if self.radius>=0 else 0\n",
        "\n",
        "  def area(self):\n",
        "    if self.cond!=0:\n",
        "      return 3.14*radius*radius\n",
        "    else:\n",
        "      return \"invalid\"\n",
        "  \n",
        "  def perimeter(self):\n",
        "    if self.cond!=0:\n",
        "      return 2*3.14*self.radius\n",
        "    else:\n",
        "      return \"Invalid\"\n",
        "\n",
        "for i in range(2): \n",
        "  radius=float(input(\"Enter the radius of circle:\"))\n",
        "  circle1 = circle(radius)\n",
        "  print(\"Area of circle:\",circle1.area())\n",
        "  print(\"Circumference of circle:\",circle1.perimeter())\n"
      ],
      "execution_count": 50,
      "outputs": [
        {
          "output_type": "stream",
          "name": "stdout",
          "text": [
            "Enter the radius of circle:13\n",
            "Area of circle: 530.66\n",
            "Circumference of circle: 81.64\n",
            "Enter the radius of circle:-2\n",
            "Area of circle: invalid\n",
            "Circumference of circle: Invalid\n"
          ]
        }
      ]
    },
    {
      "cell_type": "markdown",
      "metadata": {
        "id": "8Wo6MxrwlAOA"
      },
      "source": [
        "### problem 2"
      ]
    },
    {
      "cell_type": "code",
      "metadata": {
        "id": "kfdoA7aWrqWC",
        "colab": {
          "base_uri": "https://localhost:8080/"
        },
        "outputId": "fcf5c2ea-48f0-4961-a953-5b6cbd551976"
      },
      "source": [
        "class teacher:\n",
        "  def __init__(self,name,empid,branch,sal):\n",
        "    self.name=name\n",
        "    self.empid=empid\n",
        "    self.branch=branch\n",
        "    self.sal=sal\n",
        " \n",
        "  def view_details(self):\n",
        "    print(\"employee id    :\",self.empid.upper())\n",
        "    print(\"Employee name  :\",self.name.capitalize())\n",
        "    print(\"Employee Branch:\",self.branch)\n",
        "    print(\"Employee Salary:\",self.sal)\n",
        "  \n",
        "def take_details():\n",
        "  detail=input(\"enter the employee details with a ',' to seperate them(name,id,branch,salary)\")\n",
        "  details=detail.split(',')\n",
        "  details[3]==int(details[3])\n",
        "  return teacher(details[0],details[1],details[2],details[3])\n",
        "\n",
        "teachers=[];\n",
        "for i in range(5):\n",
        "  k=take_details()\n",
        "  teachers.append(k)\n",
        "for i in range(5):\n",
        "  print(\"\\nemployee\",i,\"details:\")\n",
        "  teachers[i].view_details()\n",
        "  print(\"\\n\")"
      ],
      "execution_count": null,
      "outputs": [
        {
          "output_type": "stream",
          "name": "stdout",
          "text": [
            "enter the employee details with a ',' to seperate them(name,id,branch,salary)Rajesh,1222,CSE,98000\n",
            "enter the employee details with a ',' to seperate them(name,id,branch,salary)Ramesh,1223,ECE,100000\n",
            "enter the employee details with a ',' to seperate them(name,id,branch,salary)Rahul,1224,EEE,120000\n",
            "enter the employee details with a ',' to seperate them(name,id,branch,salary)Rnaga,1255,mat,120000\n",
            "enter the employee details with a ',' to seperate them(name,id,branch,salary)raju,1256,mat,130000\n",
            "\n",
            "employee 0 details:\n",
            "employee id    : 1222\n",
            "Employee name  : Rajesh\n",
            "Employee Branch: CSE\n",
            "Employee Salary: 98000\n",
            "\n",
            "\n",
            "\n",
            "employee 1 details:\n",
            "employee id    : 1223\n",
            "Employee name  : Ramesh\n",
            "Employee Branch: ECE\n",
            "Employee Salary: 100000\n",
            "\n",
            "\n",
            "\n",
            "employee 2 details:\n",
            "employee id    : 1224\n",
            "Employee name  : Rahul\n",
            "Employee Branch: EEE\n",
            "Employee Salary: 120000\n",
            "\n",
            "\n",
            "\n",
            "employee 3 details:\n",
            "employee id    : 1255\n",
            "Employee name  : Rnaga\n",
            "Employee Branch: mat\n",
            "Employee Salary: 120000\n",
            "\n",
            "\n",
            "\n",
            "employee 4 details:\n",
            "employee id    : 1256\n",
            "Employee name  : Raju\n",
            "Employee Branch: mat\n",
            "Employee Salary: 130000\n",
            "\n",
            "\n"
          ]
        }
      ]
    },
    {
      "cell_type": "markdown",
      "metadata": {
        "id": "Bx1m-vfsk5f9"
      },
      "source": [
        "### problem 3"
      ]
    },
    {
      "cell_type": "code",
      "metadata": {
        "colab": {
          "base_uri": "https://localhost:8080/"
        },
        "id": "K4CNV0_Bk4KJ",
        "outputId": "012b53b6-e525-435e-d4bd-fcb7d3909072"
      },
      "source": [
        "class bank:\n",
        "  def __init__(self,accNo,name):\n",
        "    self.accNo=accNo\n",
        "    self.name=name\n",
        "    self.amt=80000\n",
        "    self.depAmt=0\n",
        "    self.witAmt=0 \n",
        "  \n",
        "  def deposit(self):\n",
        "    self.depAmt=float(input(\"enter the amount ot deposit:\"))\n",
        "    self.amt += self.depAmt\n",
        "    return self.amt,self.depAmt\n",
        "  \n",
        "  def withdraw(self):\n",
        "    self.witAmt=float(input(\"Enter the amount to withdraw:\"))\n",
        "    if self.amt-self.witAmt>100:\n",
        "      self.amt-=self.witAmt\n",
        "      return self.amt,self.witAmt\n",
        "    else:\n",
        "      return \"requested amount cant be given due to low balance\"\n",
        "  \n",
        "  def checkBalance(self):\n",
        "    return self.amt\n",
        "  \n",
        "  def dispAccDetails(self):\n",
        "    accDetails=[self.accNo,self.name,self.amt,self.depAmt,self.witAmt]\n",
        "    print(f'\\nAccount number:{accDetails[0]}\\naccount holder name:{accDetails[1]}\\namount:{accDetails[2]}\\nlast debit:{accDetails[3]}\\nlast credit:{accDetails[4]}\\n')\n",
        "\n",
        "def take_details(bankers):\n",
        "  detail=input(\"Enter your detais with a ',' to seperate them(Acc No,Name)\")\n",
        "  details=detail.split(',')\n",
        "  bankers[details[0]]=details[1]\n",
        "  return bank(details[0],details[1])\n",
        "\n",
        "def userchoice(obj):\n",
        "  i=1\n",
        "  while i<6 and i>0:\n",
        "    i=int(input(\"\\nEnter Your Choice:\\t1.Deposit\\t2.Withdraw\\t3.Check balance\\t4.Display details\\t5.Quit\\t:\"))\n",
        "    if i==1:\n",
        "      k=obj.deposit()\n",
        "      print(f'\\nMoney deposited:{k[1]}.\\nBalance:{k[0]}')\n",
        "    elif i==2:\n",
        "      k=obj.withdraw()\n",
        "      if type(k[0])==float:\n",
        "        print(f'\\nMoney withdrawn:{k[1]}.\\nBalance:{k[0]}')\n",
        "      else:\n",
        "        print(k)\n",
        "    elif i==3:\n",
        "      print(\"\\nBank Balance:\",obj.checkBalance())\n",
        "    elif i==4:\n",
        "      obj.dispAccDetails()\n",
        "    elif i==5:\n",
        "      break \n",
        "    else:\n",
        "      print(\"Wrong choice.\\nProgram Terminated\")\n",
        "      break\n",
        "\n",
        "bankers={}\n",
        "banker1=take_details(bankers)\n",
        "userchoice(banker1)\n",
        "print(bankers)"
      ],
      "execution_count": null,
      "outputs": [
        {
          "output_type": "stream",
          "name": "stdout",
          "text": [
            "Enter your detais with a ',' to seperate them(Acc No,Name)1298032,Watsonn\n",
            "Enter Your Choice:\t1.Deposit\t2.Withdraw\t3.Check balance\t4.Display details\t5.Quit\t:3\n",
            "\n",
            "Bank Balance: 80000\n",
            "Enter Your Choice:\t1.Deposit\t2.Withdraw\t3.Check balance\t4.Display details\t5.Quit\t:1\n",
            "enter the amount ot deposit:30000\n",
            "\n",
            "Money deposited:30000.0.\n",
            "Balance:110000.0\n",
            "Enter Your Choice:\t1.Deposit\t2.Withdraw\t3.Check balance\t4.Display details\t5.Quit\t:1\n",
            "enter the amount ot deposit:2\n",
            "\n",
            "Money deposited:2.0.\n",
            "Balance:110002.0\n",
            "Enter Your Choice:\t1.Deposit\t2.Withdraw\t3.Check balance\t4.Display details\t5.Quit\t:2\n",
            "Enter the amount to withdraw:333\n",
            "\n",
            "Money withdrawn:333.0.\n",
            "Balance:109669.0\n",
            "Enter Your Choice:\t1.Deposit\t2.Withdraw\t3.Check balance\t4.Display details\t5.Quit\t:2\n",
            "Enter the amount to withdraw:900000\n",
            "requested amount cant be given due to low balance\n",
            "Enter Your Choice:\t1.Deposit\t2.Withdraw\t3.Check balance\t4.Display details\t5.Quit\t:3\n",
            "\n",
            "Bank Balance: 109669.0\n",
            "Enter Your Choice:\t1.Deposit\t2.Withdraw\t3.Check balance\t4.Display details\t5.Quit\t:4\n",
            "\n",
            "Account number:1298032\n",
            "account holder name:Watsonn\n",
            "amount:109669.0\n",
            "last debit:2.0\n",
            "last credit:900000.0\n",
            "\n",
            "Enter Your Choice:\t1.Deposit\t2.Withdraw\t3.Check balance\t4.Display details\t5.Quit\t:5\n",
            "{'1298032': 'Watsonn'}\n"
          ]
        }
      ]
    },
    {
      "cell_type": "markdown",
      "metadata": {
        "id": "Y0yxeyS1feg2"
      },
      "source": [
        "### problem 4\n",
        "\n"
      ]
    },
    {
      "cell_type": "code",
      "metadata": {
        "colab": {
          "base_uri": "https://localhost:8080/"
        },
        "id": "RWyuXctzCBHr",
        "outputId": "4dc056d5-354a-4e65-d254-e00dad5404a1"
      },
      "source": [
        "class student:\n",
        "  def __init__(self,name,rollno,*marks):\n",
        "    self.name=name.capitalize()\n",
        "    self.rollno=rollno\n",
        "    self.marks=marks\n",
        "  \n",
        "  def showdetails(self):\n",
        "    total=0\n",
        "    for i in self.marks:\n",
        "      i=float(i)\n",
        "      total+=i\n",
        "    print(f'NAME       :{self.name}\\nROLLNO     :{self.rollno}\\nphy marks  :{self.marks[0]}\\nmaths marks:{self.marks[1]}\\nchem marks :{self.marks[2]}\\nTotal      :{total}')\n",
        "\n",
        "def take_details():\n",
        "  detail=input(\"Enter the student details(name,rollno,phymarks,matmarks,chemmarks)\").split(',')\n",
        "  return student(detail[0],detail[1],detail[2],detail[3],detail[4])\n",
        "\n",
        "mark_list={}\n",
        "students=[]\n",
        "\n",
        "for i in range(3):\n",
        "  k=take_details()  \n",
        "  students.append(k)\n",
        "  mark_list[k.name]=k.marks\n",
        "print(\"\\nStudent details:\\n\")\n",
        "\n",
        "for i in range(3):\n",
        "  print(\"Student\",i+1,\"details:\")\n",
        "  students[i].showdetails()\n",
        "  print(\"\\n\")\n",
        "\n",
        "print(mark_list)"
      ],
      "execution_count": null,
      "outputs": [
        {
          "output_type": "stream",
          "name": "stdout",
          "text": [
            "Enter the student details(name,rollno,phymarks,matmarks,chemmarks)ramesh,420,98,96,100\n",
            "Enter the student details(name,rollno,phymarks,matmarks,chemmarks)suresh,402,98,99,98\n",
            "Enter the student details(name,rollno,phymarks,matmarks,chemmarks)mukesh,222,95,98,99\n",
            "\n",
            "Student details:\n",
            "\n",
            "Student 1 details:\n",
            "NAME       :Ramesh\n",
            "ROLLNO     :420\n",
            "phy marks  :98\n",
            "maths marks:96\n",
            "chem marks :100\n",
            "Total      :294.0\n",
            "\n",
            "\n",
            "Student 2 details:\n",
            "NAME       :Suresh\n",
            "ROLLNO     :402\n",
            "phy marks  :98\n",
            "maths marks:99\n",
            "chem marks :98\n",
            "Total      :295.0\n",
            "\n",
            "\n",
            "Student 3 details:\n",
            "NAME       :Mukesh\n",
            "ROLLNO     :222\n",
            "phy marks  :95\n",
            "maths marks:98\n",
            "chem marks :99\n",
            "Total      :292.0\n",
            "\n",
            "\n",
            "{'Ramesh': ('98', '96', '100'), 'Suresh': ('98', '99', '98'), 'Mukesh': ('95', '98', '99')}\n"
          ]
        }
      ]
    },
    {
      "cell_type": "markdown",
      "metadata": {
        "id": "ETbNmh4UiwCg"
      },
      "source": [
        "### problem 5"
      ]
    },
    {
      "cell_type": "code",
      "metadata": {
        "id": "WfgS-SJVlV17",
        "colab": {
          "base_uri": "https://localhost:8080/"
        },
        "outputId": "29c69b6e-80c4-461b-8b30-3f69134d9555"
      },
      "source": [
        "class Hospital:\n",
        "  def __init__(self):\n",
        "    pass\n",
        "  class patient:\n",
        "    def __init__(self):\n",
        "      self.name=\"\"\n",
        "      self.DOA=\"\"\n",
        "      self.symptoms=0\n",
        "      self.spo2=''\n",
        "      self.severity=\"\"\n",
        "\n",
        "    def patient_details_entry(self):\n",
        "      self.name=input(\"Enter Patient name:\").capitalize()\n",
        "      self.age=int(input(\"Enter patient age:\"))\n",
        "      self.gender=input(\"patient gender:\")\n",
        "      self.address=input(\"Enter patient address:\")\n",
        "      self.symptoms=input(\"Enter the symptoms(sym1,sym2,sym3...)\").split(',')\n",
        "      self.spo2=float(input(\"Enter the oxygen level of patient:\"))\n",
        "\n",
        "    def patient_details_show(self):\n",
        "      print(\"\\nPatient name:\",self.name)\n",
        "      print(\"patient age:\",self.age)\n",
        "      print(\"patient gender:\",self.gender)\n",
        "      print(\"patient address:\",self.address)\n",
        "\n",
        "    def sevierity(self):\n",
        "      if self.spo2>90:\n",
        "        if \"bodypains\" in self.symptoms or \"fever\" in self.symptoms:\n",
        "          self.Sevierty=\"moderate\"\n",
        "          if \"breathing problem\" in self.symptoms or \"lack of taste\" in self.symptoms:\n",
        "            self.Sevierty=\"severe\"\n",
        "      else:\n",
        "        print(self.name,\"is under observation\")\n",
        "        self.Sevierty=\"very severe\"  \n",
        "    \n",
        "    def view_symptoms(self,List):\n",
        "      self.sevierity()\n",
        "      print(\"Symptoms of\",self.name,\":\",end=\" \")\n",
        "      for i in self.symptoms:\n",
        "        print(i,end=\",\")\n",
        "      print(\"\\nseverity:\",self.Sevierty)\n",
        "    \n",
        "    def o2support(self,hosp,List):\n",
        "      if self.sevierity()==\"very severe\":\n",
        "        List.append(self.name)\n",
        "\n",
        "  def view_o2supp(self,List):\n",
        "    return len(List)\n",
        "  \n",
        "  def total_admissons(self,List1,List2):\n",
        "    return len(List1+List2)\n",
        "  \n",
        "  def view_gen_ward(self,List):\n",
        "    return len(List)\n",
        "\n",
        "def create_patient(obj,List1,List2,List3):#list1-->general ward list2-->observation list2-->patient details\n",
        "  i=int(input(\"Enter your choice:\\n1.Add patient  2.Show patient details  3.View patient count  4.Quit--->\"))\n",
        "  while i<=5: \n",
        "    if i==1:\n",
        "      obj2=obj.patient()\n",
        "      obj2.patient_details_entry()\n",
        "      List3.append(obj2)\n",
        "      obj2.o2support(obj,List2)\n",
        "      if obj2.spo2>90:\n",
        "        List1.append(obj2.name)\n",
        "      else:\n",
        "        List2.append(obj2.name)\n",
        "    elif i==2:\n",
        "      name=input(\"Enter patient name\").capitalize()\n",
        "      for k in List3:\n",
        "        if name == k.name:\n",
        "          obj2.patient_details_show()\n",
        "          obj2.view_symptoms(List2)\n",
        "          obj2.sevierity()\n",
        "        else:\n",
        "          print(\"Patient not found.\")\n",
        "    elif i==3:\n",
        "      print(\"\\nTOTAL NO OF PATIENTS:\",obj.total_admissons(List1,List2))\n",
        "      print(\"Patients under Observation:\",obj.view_o2supp(List2))\n",
        "      print(\"Patients In general ward:\",obj.view_gen_ward(List1))\n",
        "    else:\n",
        "      print(\"Program terminated\")\n",
        "      break\n",
        "    i=int(input(\"\\nEnter your choice:\\n1.Add patient 2.Show patient details 3.View patient count 4.Quit--->\"))\n",
        "patients=[]\n",
        "o2support=[\"rajeev\",\"rahav\",\"ramesh\",\"suresh\",\"mukesh\",\"arjun\"]    \n",
        "general=[\"A\",\"B\",\"C\",\"D\",\"E\"]\n",
        "Hosp=Hospital()\n",
        "create_patient(Hosp,general,o2support,patients)\n"
      ],
      "execution_count": 49,
      "outputs": [
        {
          "output_type": "stream",
          "name": "stdout",
          "text": [
            "Enter your choice:\n",
            "1.Add patient  2.Show patient details  3.View patient count  4.Quit--->1\n",
            "Enter Patient name:Alpha\n",
            "Enter patient age:13\n",
            "patient gender:male\n",
            "Enter patient address:zsxdcfvgbh\n",
            "Enter the symptoms(sym1,sym2,sym3...)cold,fever,body pains,headache,breathing problem\n",
            "Enter the oxygen level of patient:92\n",
            "\n",
            "Enter your choice:\n",
            "1.Add patient 2.Show patient details 3.View patient count 4.Quit--->2\n",
            "Enter patient namea\n",
            "Patient not found.\n",
            "\n",
            "Enter your choice:\n",
            "1.Add patient 2.Show patient details 3.View patient count 4.Quit--->2\n",
            "Enter patient namealpha\n",
            "\n",
            "Patient name: Alpha\n",
            "patient age: 13\n",
            "patient gender: male\n",
            "patient address: zsxdcfvgbh\n",
            "Symptoms of Alpha : cold,fever,body pains,headache,breathing problem,\n",
            "severity: severe\n",
            "\n",
            "Enter your choice:\n",
            "1.Add patient 2.Show patient details 3.View patient count 4.Quit--->3\n",
            "\n",
            "TOTAL NO OF PATIENTS: 12\n",
            "Patients under Observation: 6\n",
            "Patients In general ward: 6\n",
            "\n",
            "Enter your choice:\n",
            "1.Add patient 2.Show patient details 3.View patient count 4.Quit--->1\n",
            "Enter Patient name:Beta\n",
            "Enter patient age:14\n",
            "patient gender:female\n",
            "Enter patient address:fgszrdhxtjy\n",
            "Enter the symptoms(sym1,sym2,sym3...)cold,fever,bodypains\n",
            "Enter the oxygen level of patient:94\n",
            "\n",
            "Enter your choice:\n",
            "1.Add patient 2.Show patient details 3.View patient count 4.Quit--->2\n",
            "Enter patient namebeta\n",
            "Patient not found.\n",
            "\n",
            "Patient name: Beta\n",
            "patient age: 14\n",
            "patient gender: female\n",
            "patient address: fgszrdhxtjy\n",
            "Symptoms of Beta : cold,fever,bodypains,\n",
            "severity: moderate\n",
            "\n",
            "Enter your choice:\n",
            "1.Add patient 2.Show patient details 3.View patient count 4.Quit--->1\n",
            "Enter Patient name:Gamma\n",
            "Enter patient age:15\n",
            "patient gender:male\n",
            "Enter patient address:ewertyu\n",
            "Enter the symptoms(sym1,sym2,sym3...)cold,lack of taste\n",
            "Enter the oxygen level of patient:83\n",
            "Gamma is under observation\n",
            "\n",
            "Enter your choice:\n",
            "1.Add patient 2.Show patient details 3.View patient count 4.Quit--->3\n",
            "\n",
            "TOTAL NO OF PATIENTS: 14\n",
            "Patients under Observation: 7\n",
            "Patients In general ward: 7\n",
            "\n",
            "Enter your choice:\n",
            "1.Add patient 2.Show patient details 3.View patient count 4.Quit--->4\n",
            "Program terminated\n"
          ]
        }
      ]
    },
    {
      "cell_type": "markdown",
      "metadata": {
        "id": "IcMmeOAiZgd-"
      },
      "source": [
        "## Problem 6"
      ]
    },
    {
      "cell_type": "code",
      "metadata": {
        "colab": {
          "base_uri": "https://localhost:8080/"
        },
        "id": "8OyqYrYMZpo5",
        "outputId": "d6a39d24-bea6-45f0-8e70-046f721f6916"
      },
      "source": [
        "class time:\n",
        "  def __init__(self):\n",
        "    self.seconds,self.hours,self.minutes=0,0,0\n",
        "  \n",
        "  def __init__(self,seconds,minutes,hours):\n",
        "    self.seconds=seconds\n",
        "    self.minutes=minutes\n",
        "    self.hours=hours\n",
        "\n",
        "  def display(self):\n",
        "    print(f'Given time:{self.hours}:{self.minutes}:{self.seconds}')\n",
        "\n",
        "k=input(\"Enter the time(hh:mm:ss)\").split(\":\")\n",
        "m=[int(x) for x in k]\n",
        "obj1=time(m[2],m[1],m[0])\n",
        "obj1.display()\n",
        "#obj2=time()                   throws error \n",
        "#obj2.display()                   the new constructor replaces old constructor"
      ],
      "execution_count": null,
      "outputs": [
        {
          "output_type": "stream",
          "name": "stdout",
          "text": [
            "Enter the time(hh:mm:ss)12:48:43\n",
            "Given time:12:48:43\n"
          ]
        }
      ]
    },
    {
      "cell_type": "markdown",
      "metadata": {
        "id": "iPf9mDjEcV8Y"
      },
      "source": [
        "## Problem 7"
      ]
    },
    {
      "cell_type": "code",
      "metadata": {
        "colab": {
          "base_uri": "https://localhost:8080/"
        },
        "id": "0p81xQqAcYy5",
        "outputId": "3ad35e23-136e-41d5-d02e-35ebe00c1b38"
      },
      "source": [
        "class student:\n",
        "  def __init__(self,name,rollno,age):\n",
        "    self.name=name\n",
        "    self.age=age\n",
        "    self.rollno=rollno\n",
        "  \n",
        "  def compare(self,s2):\n",
        "    if self.age==s2.age:\n",
        "      return True\n",
        "    return False\n",
        "\n",
        "def takedetails():\n",
        "  k=input(\"Enter the student details(name,rollno,age)\").split(',')\n",
        "  return student(k[0],k[1],k[2])\n",
        "\n",
        "\n",
        "for i in range(2):\n",
        "  std1=takedetails()\n",
        "  std2=takedetails()\n",
        "  k=std1.compare(std2)\n",
        "  if k==True:\n",
        "    print('Both are Equal')  \n",
        "  else:\n",
        "    print('Ages are not equal')\n"
      ],
      "execution_count": null,
      "outputs": [
        {
          "output_type": "stream",
          "name": "stdout",
          "text": [
            "Enter the student details(name,rollno,age)Rahul,33,12\n",
            "Enter the student details(name,rollno,age)Ramesh,32,12\n",
            "Both are Equal\n",
            "Enter the student details(name,rollno,age)Sanjay,31,13\n",
            "Enter the student details(name,rollno,age)Sanjana,30,14\n",
            "Ages are not equal\n"
          ]
        }
      ]
    },
    {
      "cell_type": "markdown",
      "metadata": {
        "id": "aDmBkHF-hkKr"
      },
      "source": [
        "## Problem 8"
      ]
    },
    {
      "cell_type": "code",
      "metadata": {
        "colab": {
          "base_uri": "https://localhost:8080/"
        },
        "id": "0Vh1aucwhnGd",
        "outputId": "e749942f-3cfd-45c7-b236-a899df12d6ca"
      },
      "source": [
        "class student:\n",
        "  institute='IIIT Dharwad'\n",
        "  sem = 3\n",
        "  def __init__(self,name,usn):\n",
        "    self.name=name\n",
        "    self.usn=usn\n",
        "  \n",
        "  def showinstance(self):\n",
        "    print(f'student name:{self.name}\\nRoll No:{self.usn}')\n",
        "\n",
        "  @classmethod\n",
        "  def showclsvar(cls):\n",
        "    print(f'Sem:{student.sem}\\nInstitute{student.institute}')\n",
        "  \n",
        "k=student(\"Vivek\",105)\n",
        "k.showinstance()\n",
        "k.showclsvar()"
      ],
      "execution_count": null,
      "outputs": [
        {
          "output_type": "stream",
          "name": "stdout",
          "text": [
            "student name:Vivek\n",
            "Roll No:105\n",
            "Sem:3\n",
            "InstituteIIIT Dharwad\n"
          ]
        }
      ]
    },
    {
      "cell_type": "markdown",
      "metadata": {
        "id": "a1PJOW8no59w"
      },
      "source": [
        "## Problem 9"
      ]
    },
    {
      "cell_type": "code",
      "metadata": {
        "colab": {
          "base_uri": "https://localhost:8080/"
        },
        "id": "pqMF-r66o8ZM",
        "outputId": "96d7d5d0-e47d-4219-b779-c63039203fd0"
      },
      "source": [
        "class student:\n",
        "  def __init__(self,name,rollno,sem):\n",
        "    self.name=name\n",
        "    self.rollno,self.sem=rollno,sem\n",
        "  class laptop:                                                                                               #static inner class\n",
        "    def __init__(self):\n",
        "      self.cpu='0'\n",
        "      self.ram=0\n",
        "      self.storage=''\n",
        "      self.company=''\n",
        "      self.gpu=''\n",
        "    def specs(self):\n",
        "      spec_list=input(\"Enter laptop specification(company,cpu,ram,hdd+ssd,gpu)\").split(\",\")\n",
        "      self.cpu=spec_list[1]\n",
        "      self.ram=int(spec_list[2])\n",
        "      self.storage=spec_list[3]\n",
        "      self.company=spec_list[0]\n",
        "      self.gpu=spec_list[4]\n",
        "    def displap(self):\n",
        "      print(f\"Company{self.company}\\nCPU:{self.cpu}\\nGPU:{self.gpu}\\nRAM:{self.ram}gb\\nSTORAGE:{self.storage}\")\n",
        "\n",
        "  def dispstd(self):\n",
        "    print(\"\\nSTUDENT DETAILS:\")\n",
        "    print(\"student name  :\",self.name)\n",
        "    print(\"student rollno:\",self.rollno)\n",
        "    print(\"student sem   :\",self.sem)\n",
        "  \n",
        "def addlap(obj):\n",
        "  a=int(input(\"Enter your choice:\\n1:add laptop\\t2:quit-->\"))\n",
        "  laptops=[]\n",
        "  while a==1:\n",
        "    k=obj.laptop()\n",
        "    k.specs()\n",
        "    laptops.append(k)\n",
        "    a=int(input(\"Enter your choice:\\n1:add laptop\\t2:quit-->\"))\n",
        "  return laptops\n",
        "\n",
        "def display(laptops):\n",
        "  print(\"\\nstudent laptops' specifications:\")\n",
        "  t=1\n",
        "  for i in laptops:\n",
        "    print(\"\\nLaptop\",t,\"details:\")\n",
        "    i.displap()\n",
        "    t+=1\n",
        "\n",
        "k1=input(\"Enter STUDENT DETAILS(name,rollno,sem)\").split(',')\n",
        "std1=student(k1[0],k1[1],k1[2])\n",
        "laptops=addlap(std1)\n",
        "std1.dispstd()\n",
        "display(laptops)"
      ],
      "execution_count": null,
      "outputs": [
        {
          "output_type": "stream",
          "name": "stdout",
          "text": [
            "Enter STUDENT DETAILS(name,rollno,sem)Vivek yadav,20BCS105,3rd\n",
            "Enter your choice:\n",
            "1:add laptop\t2:quit-->1\n",
            "Enter laptop specification(company,cpu,ram,hdd+ssd,gpu)HP,i5-10300H,16,1td hdd,RTX 2060\n",
            "Enter your choice:\n",
            "1:add laptop\t2:quit-->1\n",
            "Enter laptop specification(company,cpu,ram,hdd+ssd,gpu)lenovo,i5-1135g7,8,1td hdd + 256gb ssd,MX450\n",
            "Enter your choice:\n",
            "1:add laptop\t2:quit-->1\n",
            "Enter laptop specification(company,cpu,ram,hdd+ssd,gpu)Apple,M1,16,1tb ssd,integrated\n",
            "Enter your choice:\n",
            "1:add laptop\t2:quit-->2\n",
            "\n",
            "STUDENT DETAILS:\n",
            "student name  : Vivek yadav\n",
            "student rollno: 20BCS105\n",
            "student sem   : 3rd\n",
            "\n",
            "student laptops' specifications:\n",
            "\n",
            "Laptop 1 details:\n",
            "CompanyHP\n",
            "CPU:i5-10300H\n",
            "GPU:RTX 2060\n",
            "RAM:16gb\n",
            "STORAGE:1td hdd\n",
            "\n",
            "Laptop 2 details:\n",
            "Companylenovo\n",
            "CPU:i5-1135g7\n",
            "GPU:MX450\n",
            "RAM:8gb\n",
            "STORAGE:1td hdd + 256gb ssd\n",
            "\n",
            "Laptop 3 details:\n",
            "CompanyApple\n",
            "CPU:M1\n",
            "GPU:integrated\n",
            "RAM:16gb\n",
            "STORAGE:1tb ssd\n"
          ]
        }
      ]
    }
  ]
}