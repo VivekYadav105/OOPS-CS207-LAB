{
  "nbformat": 4,
  "nbformat_minor": 0,
  "metadata": {
    "colab": {
      "name": "Vivekyadav.P_20bcs105_OOPTask5.ipynb",
      "provenance": [],
      "collapsed_sections": [],
      "authorship_tag": "ABX9TyOfZ0IJstdlP/rowtz4wk/2",
      "include_colab_link": true
    },
    "kernelspec": {
      "name": "python3",
      "display_name": "Python 3"
    },
    "language_info": {
      "name": "python"
    }
  },
  "cells": [
    {
      "cell_type": "markdown",
      "metadata": {
        "id": "view-in-github",
        "colab_type": "text"
      },
      "source": [
        "<a href=\"https://colab.research.google.com/github/VivekYadav105/OOPS-CS207-LAB/blob/main/Vivekyadav_P_20bcs105_OOPTask5.ipynb\" target=\"_parent\"><img src=\"https://colab.research.google.com/assets/colab-badge.svg\" alt=\"Open In Colab\"/></a>"
      ]
    },
    {
      "cell_type": "code",
      "metadata": {
        "colab": {
          "base_uri": "https://localhost:8080/"
        },
        "id": "YuYi5MUJeGWi",
        "outputId": "1a94e835-ffbb-4e24-bd40-f408fceca6d4"
      },
      "source": [
        "from abc import ABC,abstractmethod\n",
        "class shape(ABC):\n",
        "  @abstractmethod\n",
        "  def area(Self):\n",
        "    pass\n",
        "  \n",
        "\n",
        "class circle(shape):\n",
        "  def area(self):\n",
        "    r=float(input('enter the radius of circle:'))\n",
        "    self.a=r*r*3.14\n",
        "    print(\"Area Of circle:\",self.a)\n",
        "\n",
        "class square(shape):\n",
        "  def area(self):\n",
        "    l=float(input(\"Enter the length of square:\"))\n",
        "    self.a=l*l\n",
        "    print(\"Area Of square:\",self.a)\n",
        "\n",
        "class rectangle(shape):\n",
        "  def area(self):\n",
        "    l=float(input(\"Enter the length:\"))\n",
        "    b=float(input(\"Enter the breath\"))\n",
        "    self.a=l*b\n",
        "    print(\"Area Of circle:\",self.a)\n",
        "\n",
        "a=square()\n",
        "b=circle()\n",
        "c=rectangle()\n",
        "a.area()\n",
        "b.area()\n",
        "c.area()"
      ],
      "execution_count": 3,
      "outputs": [
        {
          "output_type": "stream",
          "name": "stdout",
          "text": [
            "Enter the length of square:4\n",
            "Area Of square: 16.0\n",
            "enter the radius of circle:7\n",
            "Area Of circle: 153.86\n",
            "Enter the length:22\n",
            "Enter the breath21\n",
            "Area Of circle: 462.0\n"
          ]
        }
      ]
    },
    {
      "cell_type": "code",
      "metadata": {
        "id": "zpjJeBzseNYb",
        "colab": {
          "base_uri": "https://localhost:8080/"
        },
        "outputId": "8974074b-93b6-45dd-f510-88ff0dc93462"
      },
      "source": [
        "class Travel:\n",
        "    def passengers(self):\n",
        "        self.__npassengers=int(input(\"Enter the Number of passengers \"))\n",
        "        self.p=self.__npassengers\n",
        "    def distance(self):\n",
        "        self.tdistance=int(input(\"Enter the Distance travelled (in KM):\" ))\n",
        "    def mode(self):\n",
        "        print(\"\\nMode of Transportation: 1.Train   2.Bus \")\n",
        "        \n",
        "class Train(Travel):\n",
        "    def tcost(self):\n",
        "        print(\"\\nCost for each person in Train is Rs.60\")\n",
        "        super().passengers()\n",
        "        self.costt=self.p*60\n",
        "        print(\"Total cost is : Rs.\",self.costt)\n",
        "class Bus(Travel):\n",
        "    def bcost(self):\n",
        "        print(\"\\nCost for each person in Bus is Rs.100\")\n",
        "        super().passengers()\n",
        "        self.costb=(self.p)*100\n",
        "        print(\"Total Cost is : Rs.\",self.costb)\n",
        "obj=Train()\n",
        "objb=Bus()\n",
        "obj.distance()\n",
        "obj.mode()\n",
        "i=int(input(\"Select the mode of Transportation \"))\n",
        "if i==1:\n",
        "    obj.tcost()\n",
        "elif i==2:\n",
        "    objb.bcost()"
      ],
      "execution_count": 4,
      "outputs": [
        {
          "output_type": "stream",
          "name": "stdout",
          "text": [
            "Enter the Distance travelled (in KM):22\n",
            "\n",
            "Mode of Transportation: 1.Train   2.Bus \n",
            "Select the mode of Transportation 2\n",
            "\n",
            "Cost for each person in Bus is Rs.100\n",
            "Enter the Number of passengers 45\n",
            "Total Cost is : Rs. 4500\n"
          ]
        }
      ]
    },
    {
      "cell_type": "code",
      "metadata": {
        "colab": {
          "base_uri": "https://localhost:8080/"
        },
        "id": "2gp6syLqeN9U",
        "outputId": "5702d95b-6c75-4f59-ea9d-5d1ba3073aa8"
      },
      "source": [
        "class car:\n",
        "  def __init__(self,no):\n",
        "    self.no=no\n",
        "  def swap(self,obj):\n",
        "    try:\n",
        "      self.no,obj.no=obj.no,self.no\n",
        "    except:\n",
        "      print(\"please check the given object type\")\n",
        "  \n",
        "c1=car('AP29 AA 6629')\n",
        "c2=car('AP21 BC 4534')\n",
        "\n",
        "c1.swap(c2)\n",
        "print('c1 no:',c1.no)\n",
        "print('c2 no:',c2.no)"
      ],
      "execution_count": null,
      "outputs": [
        {
          "output_type": "stream",
          "name": "stdout",
          "text": [
            "c1 no: AP21 BC 4534\n",
            "c2 no: AP29 AA 6629\n"
          ]
        }
      ]
    }
  ]
}